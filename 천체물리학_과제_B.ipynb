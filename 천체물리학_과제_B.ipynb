{
 "cells": [
  {
   "cell_type": "code",
   "execution_count": 33,
   "metadata": {},
   "outputs": [],
   "source": [
    "import csv\n",
    "import numpy as np\n",
    "import pandas as pd\n",
    "import matplotlib.pyplot as plt"
   ]
  },
  {
   "cell_type": "code",
   "execution_count": 34,
   "metadata": {},
   "outputs": [],
   "source": [
    "f = open('C:\\\\Users\\\\user\\\\Desktop\\\\새 폴더\\\\exoplanet.eu_catalog.csv','r', encoding = 'utf-8')\n",
    "\n",
    "df = pd.read_csv(f)"
   ]
  },
  {
   "cell_type": "code",
   "execution_count": 35,
   "metadata": {},
   "outputs": [],
   "source": [
    "name = df['# name']\n",
    "mass = df['mass']\n",
    "star_mass = df['star_mass']\n",
    "detection = df['detection_type']\n",
    "star_teff = df['star_teff']\n",
    "star_radius = df['star_radius']\n",
    "star_semi = df['semi_major_axis']\n",
    "\n",
    "solar_temp = 5800"
   ]
  },
  {
   "cell_type": "code",
   "execution_count": 36,
   "metadata": {},
   "outputs": [],
   "source": [
    "ratio = ((star_teff)**4/solar_temp**4)*(star_radius**2)*(1/star_semi**2)"
   ]
  },
  {
   "cell_type": "code",
   "execution_count": 37,
   "metadata": {},
   "outputs": [
    {
     "name": "stdout",
     "output_type": "stream",
     "text": [
      "         # name            0\n",
      "0      11 Com b    96.930847\n",
      "1      11 Oph b          NaN\n",
      "2      11 UMi b    76.651113\n",
      "3      14 And b    83.287660\n",
      "4      14 Her b     0.045930\n",
      "...         ...          ...\n",
      "4373  ups And b  1005.582514\n",
      "4374  ups And c     4.721885\n",
      "4375  ups And d     0.538321\n",
      "4376  ups And e     0.127213\n",
      "4377  zet Del B          NaN\n",
      "\n",
      "[4378 rows x 2 columns]\n"
     ]
    }
   ],
   "source": [
    "data = pd.concat([df['# name'],ratio],axis =1)\n",
    "print(data)"
   ]
  },
  {
   "cell_type": "code",
   "execution_count": 41,
   "metadata": {},
   "outputs": [],
   "source": [
    "finding = []\n",
    "ratio_1  = []\n",
    "for i in range(0,4378):\n",
    "    if 0.9<ratio[i] < 1.1:\n",
    "        finding.append(data['# name'][i])\n",
    "        ratio_1.append(ratio[i])"
   ]
  },
  {
   "cell_type": "code",
   "execution_count": 42,
   "metadata": {},
   "outputs": [],
   "source": [
    "finding = pd.Series(finding)\n",
    "ratio_1 = pd.Series(ratio_1)\n",
    "\n",
    "data_2 = pd.concat([finding,ratio_1],axis =1)"
   ]
  },
  {
   "cell_type": "code",
   "execution_count": 43,
   "metadata": {},
   "outputs": [
    {
     "name": "stdout",
     "output_type": "stream",
     "text": [
      "                 0         1\n",
      "0         38 Vir b  1.036817\n",
      "1         55 Cnc f  1.034477\n",
      "2     BD-11 4672 c  1.064693\n",
      "3        GJ 3293 b  1.012342\n",
      "4      HD 108874 b  1.017719\n",
      "5       HD 142 A b  0.916302\n",
      "6      HD 142415 b  0.985030\n",
      "7       HD 43197 b  0.960922\n",
      "8       HD 82943 b  0.931893\n",
      "9     HD 87646 A c  0.942628\n",
      "10     HIP 67851 c  1.055054\n",
      "11         K2-72 e  1.098220\n",
      "12  KIC 10255705 b  0.993097\n",
      "13     Kepler-22 b  1.089343\n",
      "14    Kepler-419 c  0.924438\n",
      "15    Kepler-452 b  1.093089\n",
      "16     Kepler-62 e  1.081116\n"
     ]
    },
    {
     "data": {
      "text/plain": [
       "17"
      ]
     },
     "execution_count": 43,
     "metadata": {},
     "output_type": "execute_result"
    }
   ],
   "source": [
    "print(data_2)\n",
    "\n",
    "len(finding)"
   ]
  },
  {
   "cell_type": "code",
   "execution_count": null,
   "metadata": {},
   "outputs": [],
   "source": []
  }
 ],
 "metadata": {
  "kernelspec": {
   "display_name": "Python 3",
   "language": "python",
   "name": "python3"
  },
  "language_info": {
   "codemirror_mode": {
    "name": "ipython",
    "version": 3
   },
   "file_extension": ".py",
   "mimetype": "text/x-python",
   "name": "python",
   "nbconvert_exporter": "python",
   "pygments_lexer": "ipython3",
   "version": "3.8.3"
  }
 },
 "nbformat": 4,
 "nbformat_minor": 4
}
